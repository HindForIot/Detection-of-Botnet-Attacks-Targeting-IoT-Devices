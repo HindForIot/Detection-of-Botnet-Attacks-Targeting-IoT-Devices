{
 "cells": [
  {
   "cell_type": "code",
   "execution_count": 1,
   "metadata": {},
   "outputs": [],
   "source": [
    "import os\n",
    "from os import listdir\n",
    "from os.path import isfile, join\n",
    "\n",
    "h = open(r\"D:\\Documents\\Hiast\\5th_year_project_files\\project_work\\tests\\Dataset\\cmd_commands.txt\", 'w')\n",
    "PATH = r\"D:\\Documents\\Hiast\\5th_year_project_files\\project_work\\tests\\Dataset\\big_pcap_transformation\"\n",
    "onlyfiles = [f for f in listdir(PATH) if isfile(join(PATH, f))]\n",
    "Dist = r\"D:\\Documents\\Hiast\\5th_year_project_files\\project_work\\tests\\Dataset\\csv_file\"\n",
    "I1 = 'tshark -r '\n",
    "I3 = ' -T fields -e ip.len -e ip.id -e ip.flags -e ip.ttl -e ip.proto -e ip.checksum -e ip.src -e ip.dst -e udp.srcport -e udp.dstport -e udp.length -e udp.checksum -e udp.time_relative -e udp.time_delta -e tcp.dstport -e tcp.srcport -e frame.number -e frame.time -e eth.src -e eth.dst -e tcp.analysis.ack_rtt -E header=y -E separator=, -E quote=d -E occurrence=f > '\n",
    "p1=r\"cd\\\"\"\n",
    "p2='\\n'+r\"cd Windows\"+'\\n';\n",
    "p3=r\"cd /d D:\\Documents\\Hiast\\5th_year_project_files\\Wireshark\"+'\\n';\n",
    "I=p1+p2+p3\n",
    "h.write(I)\n",
    "for i in range (len(onlyfiles)):\n",
    "        I2 = onlyfiles[i]\n",
    "        I4 = \"{}.csv\".format(onlyfiles[i])\n",
    "        instruction = I1 + PATH + '\\\\' + I2 + I3 + Dist + '\\\\' + I4+ '\\n'\n",
    "        h.write(instruction)"
   ]
  }
 ],
 "metadata": {
  "kernelspec": {
   "display_name": "Python 3",
   "language": "python",
   "name": "python3"
  },
  "language_info": {
   "codemirror_mode": {
    "name": "ipython",
    "version": 3
   },
   "file_extension": ".py",
   "mimetype": "text/x-python",
   "name": "python",
   "nbconvert_exporter": "python",
   "pygments_lexer": "ipython3",
   "version": "3.8.3"
  }
 },
 "nbformat": 4,
 "nbformat_minor": 5
}
